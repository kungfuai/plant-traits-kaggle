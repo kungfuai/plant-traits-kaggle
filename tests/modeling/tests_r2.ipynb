{
 "cells": [
  {
   "cell_type": "code",
   "execution_count": 18,
   "metadata": {},
   "outputs": [
    {
     "name": "stdout",
     "output_type": "stream",
     "text": [
      "tensor([-1.4577, -3.8493, -1.8109, -0.6907, -1.6428, -2.9837])\n",
      "tensor(-2.0725)\n"
     ]
    }
   ],
   "source": [
    "# Test r2 score\n",
    "import torch\n",
    "from torchmetrics import R2Score\n",
    "\n",
    "r2_score = R2Score(num_outputs=6, multioutput='uniform_average')\n",
    "torch.manual_seed(42)\n",
    "\n",
    "# Random (6, 10) tensor\n",
    "x = torch.rand((10, 6))\n",
    "y = torch.rand((10, 6))\n",
    "r2_score(x, y)\n",
    "\n",
    "print(r2_score.compute())\n",
    "print(r2_score.compute().mean())"
   ]
  },
  {
   "cell_type": "code",
   "execution_count": 21,
   "metadata": {},
   "outputs": [
    {
     "name": "stdout",
     "output_type": "stream",
     "text": [
      "tensor(-2.0725)\n"
     ]
    }
   ],
   "source": [
    "\n",
    "r2_score = R2Score(num_outputs=6)\n",
    "torch.manual_seed(42)\n",
    "\n",
    "# Random (6, 10) tensor\n",
    "x = torch.rand((10, 6))\n",
    "y = torch.rand((10, 6))\n",
    "r2_score(x, y)\n",
    "\n",
    "print(r2_score.compute())"
   ]
  },
  {
   "cell_type": "code",
   "execution_count": null,
   "metadata": {},
   "outputs": [],
   "source": []
  }
 ],
 "metadata": {
  "kernelspec": {
   "display_name": "Python 3",
   "language": "python",
   "name": "python3"
  },
  "language_info": {
   "codemirror_mode": {
    "name": "ipython",
    "version": 3
   },
   "file_extension": ".py",
   "mimetype": "text/x-python",
   "name": "python",
   "nbconvert_exporter": "python",
   "pygments_lexer": "ipython3",
   "version": "3.6.9"
  }
 },
 "nbformat": 4,
 "nbformat_minor": 2
}
